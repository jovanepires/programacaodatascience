{
 "cells": [
  {
   "cell_type": "markdown",
   "metadata": {},
   "source": [
    "Em todos os exercícios iremos utilizar o conceito de variáveis para armazenar os valores que iremos operar.\n",
    "Você poderá fazer isso de duas maneiras:\n",
    "1. Declarando diretamente a variável.\n",
    "```python\n",
    "x = 1\n",
    "```\n",
    "2. Utilizando o comando input para salvar o valor na hora da execução.\n",
    "```python\n",
    "x = input('Entre com um valor:')\n",
    "# O comando input salva uma string, para operar com números deve-se converter para o tipo desejado.\n",
    "x = int(input('Entre com um valor:'))\n",
    "x = float(input('Entre com um valor:'))\n",
    "```\n",
    "Leia bem o enunciado e utilize a maneira que você achar mais apropriada a ser utilizada no problema proposto.\n",
    "\n",
    "Se for necessário criar uma função (estrutura que repete um conjunto de operações), utilize a estrutura básica a seguir como exemplo.\n",
    "```python\n",
    "def funcao_qualquer(x,y):\n",
    "    z = x + y\n",
    "    return z\n",
    "```"
   ]
  },
  {
   "cell_type": "raw",
   "metadata": {},
   "source": [
    "1. Escreva um programa para criar uma tupla."
   ]
  },
  {
   "cell_type": "code",
   "execution_count": null,
   "metadata": {},
   "outputs": [],
   "source": [
    "a = tuple()\n",
    "print(a)"
   ]
  },
  {
   "cell_type": "raw",
   "metadata": {},
   "source": [
    "2. Escreva um programa para criar uma tupla com diferentes tipos de dados."
   ]
  },
  {
   "cell_type": "code",
   "execution_count": null,
   "metadata": {},
   "outputs": [],
   "source": [
    "tupla = ('a', 1, 1.7)\n",
    "print(tupla)"
   ]
  },
  {
   "cell_type": "raw",
   "metadata": {},
   "source": [
    "3. Escreva um programa para adicionar um item em uma tupla."
   ]
  },
  {
   "cell_type": "code",
   "execution_count": 1,
   "metadata": {},
   "outputs": [
    {
     "name": "stdout",
     "output_type": "stream",
     "text": [
      "('a', 1, 1.7, '1')\n"
     ]
    }
   ],
   "source": [
    "tupla = ('a', 1, 1.7)\n",
    "tupla = tupla + tuple('1')\n",
    "print(tupla)"
   ]
  },
  {
   "cell_type": "raw",
   "metadata": {},
   "source": [
    "4. Escreva um programa para encontrar os itens repetidos em uma tupla."
   ]
  },
  {
   "cell_type": "code",
   "execution_count": 9,
   "metadata": {},
   "outputs": [
    {
     "name": "stdout",
     "output_type": "stream",
     "text": [
      "{'a', 1}\n"
     ]
    }
   ],
   "source": [
    "def encontra_repetidos(tpl):\n",
    "    repetidos = set()\n",
    "    for i in tpl:\n",
    "        if tpl.count(i) > 1:\n",
    "            repetidos.add(i)\n",
    "    return repetidos\n",
    "\n",
    "teste = ('a', 1, 1.7, 'a', 1)\n",
    "resultado = encontra_repetidos(teste)\n",
    "print(resultado)"
   ]
  },
  {
   "cell_type": "raw",
   "metadata": {},
   "source": [
    "5. Escreva um programa para verificar se um elemento existe dentro da tupla."
   ]
  },
  {
   "cell_type": "code",
   "execution_count": 16,
   "metadata": {},
   "outputs": [
    {
     "name": "stdout",
     "output_type": "stream",
     "text": [
      "Entre com um valor:b\n",
      "False\n"
     ]
    }
   ],
   "source": [
    "def verifica_elemento(tpl, el):\n",
    "    for i in tpl:\n",
    "        if str(i) == str(el):\n",
    "            return True\n",
    "    \n",
    "    return False\n",
    "    \n",
    "tupla = ('a', 1, 1.7, 'a', 1)\n",
    "el = input('Entre com um valor:')\n",
    "resultado = verifica_elemento(tupla, el)\n",
    "print(resultado)"
   ]
  },
  {
   "cell_type": "raw",
   "metadata": {},
   "source": [
    "6. Escreva um programa para converter uma lista em tupla."
   ]
  },
  {
   "cell_type": "code",
   "execution_count": 17,
   "metadata": {},
   "outputs": [
    {
     "name": "stdout",
     "output_type": "stream",
     "text": [
      "['a', 1, 1.7, 'a', 1]\n"
     ]
    }
   ],
   "source": [
    "def retorna_lista(tpl):\n",
    "    return list(tpl)\n",
    "\n",
    "tupla = ('a', 1, 1.7, 'a', 1)\n",
    "resultado = retorna_lista(tupla)\n",
    "print(resultado)"
   ]
  },
  {
   "cell_type": "raw",
   "metadata": {},
   "source": [
    "7. Escreva um programa para remover um item de uma tupla."
   ]
  },
  {
   "cell_type": "raw",
   "metadata": {},
   "source": [
    "8. Escreva um programa para achar o índice de um item na tupla."
   ]
  },
  {
   "cell_type": "raw",
   "metadata": {},
   "source": [
    "9. Escreva um programa para achar o comprimento de uma tupla."
   ]
  },
  {
   "cell_type": "code",
   "execution_count": 11,
   "metadata": {},
   "outputs": [
    {
     "name": "stdout",
     "output_type": "stream",
     "text": [
      "5\n"
     ]
    }
   ],
   "source": [
    "def retorna_comprimento(tpl):\n",
    "    return len(tpl)\n",
    "\n",
    "tupla = ('a', 1, 2, 'b', 3)\n",
    "resultado = retorna_comprimento(tupla)\n",
    "print(resultado)"
   ]
  },
  {
   "cell_type": "raw",
   "metadata": {},
   "source": [
    "10. Escreva um programa em Python para inverter uma tupla."
   ]
  },
  {
   "cell_type": "code",
   "execution_count": 2,
   "metadata": {},
   "outputs": [
    {
     "name": "stdout",
     "output_type": "stream",
     "text": [
      "(3, 'b', 2, 1, 'a')\n"
     ]
    }
   ],
   "source": [
    "def inverter_tupla(tpl):\n",
    "    return tpl[::-1]\n",
    "\n",
    "tupla = ('a', 1, 2, 'b', 3)\n",
    "resultado = inverter_tupla(tupla)\n",
    "print(resultado)"
   ]
  },
  {
   "cell_type": "raw",
   "metadata": {},
   "source": [
    "11. Escreva um programa em Python para converter uma lista de tuplas em um dicionário."
   ]
  },
  {
   "cell_type": "raw",
   "metadata": {},
   "source": [
    "12. Escreva um programa em Python para imprimir uma tupla com formatação da string.\n",
    "Exemplo de Entrada : (100, 200, 300)\n",
    "Saída : A tupla é (100, 200, 300)"
   ]
  },
  {
   "cell_type": "raw",
   "metadata": {},
   "source": [
    "13. Escreva um programa em Python para substituir o último valor de tuplas em uma lista.\n",
    "Lista Exemplo: [(10, 20, 40), (40, 50, 60), (70, 80, 90)]\n",
    "Saída Esperada: [(10, 20, 100), (40, 50, 100), (70, 80, 100)]"
   ]
  },
  {
   "cell_type": "code",
   "execution_count": 10,
   "metadata": {},
   "outputs": [
    {
     "name": "stdout",
     "output_type": "stream",
     "text": [
      "Entre com um numero: 100\n",
      "([10, 20, 100], [40, 50, 100], [70, 80, 100])\n"
     ]
    }
   ],
   "source": [
    "def substituir_ultimo_valor(tpl, n):\n",
    "    res = []\n",
    "    \n",
    "    for i in tpl:\n",
    "        tmp = list(i)\n",
    "        tmp.pop()\n",
    "        tmp.append(n)\n",
    "        res.append(tmp)\n",
    "    \n",
    "    return tuple(res)\n",
    "    \n",
    "teste = [(10, 20, 40), (40, 50, 60), (70, 80, 90)]\n",
    "num = input(\"Entre com um numero: \")\n",
    "resultado = substituir_ultimo_valor(teste, int(num))\n",
    "print(resultado)"
   ]
  },
  {
   "cell_type": "raw",
   "metadata": {},
   "source": [
    "14. Escreva um programa em Python para remover as tuplas vazias em uma lista de tuplas.\n",
    "Dados de Exemplo: [(), (), ('',), ('a', 'b'), ('a', 'b', 'c'), ('d')]\n",
    "Resultado Esperado: [('',), ('a', 'b'), ('a', 'b', 'c'), 'd']"
   ]
  },
  {
   "cell_type": "code",
   "execution_count": 4,
   "metadata": {},
   "outputs": [
    {
     "name": "stdout",
     "output_type": "stream",
     "text": [
      "(('',), ('a', 'b'), ('a', 'b', 'c'), 'd')\n"
     ]
    }
   ],
   "source": [
    "def remover_tuplas_vazias(tpl):\n",
    "    res = tuple(x for x in tpl if len(x) > 0)\n",
    "    return res\n",
    "    \n",
    "teste = [(), (), ('',), ('a', 'b'), ('a', 'b', 'c'), ('d')]\n",
    "resultado = remover_tuplas_vazias(teste)\n",
    "print(resultado)"
   ]
  },
  {
   "cell_type": "raw",
   "metadata": {},
   "source": [
    "15. Escreva um programa para ordenar uma tupla pelo seu elemento de ponto flutuante.\n",
    "Exemplo: [('item1', 12.20), ('item2', 15.10), ('item3', 24.5)]\n",
    "Resultado Esperado: [('item3', 24.5), ('item2', 15.10), ('item1', 12.20)]"
   ]
  },
  {
   "cell_type": "code",
   "execution_count": 2,
   "metadata": {},
   "outputs": [
    {
     "name": "stdout",
     "output_type": "stream",
     "text": [
      "[('item3', 24.5), ('item2', 15.1), ('item1', 12.2)]\n"
     ]
    }
   ],
   "source": [
    "def ordena_por_tupla(lst):\n",
    "    res = sorted(lst, key=lambda x: x[-1], reverse=True)\n",
    "    return res\n",
    "    \n",
    "teste = [('item1', 12.20), ('item2', 15.10), ('item3', 24.5)]\n",
    "resultado = ordena_por_tupla(teste)\n",
    "print(resultado)"
   ]
  },
  {
   "cell_type": "raw",
   "metadata": {},
   "source": [
    "16. Escreva um programa em Python que conta os elementos em uma lista até que o elemento seja uma tupla."
   ]
  }
 ],
 "metadata": {
  "kernelspec": {
   "display_name": "Python 3",
   "language": "python",
   "name": "python3"
  },
  "language_info": {
   "codemirror_mode": {
    "name": "ipython",
    "version": 3
   },
   "file_extension": ".py",
   "mimetype": "text/x-python",
   "name": "python",
   "nbconvert_exporter": "python",
   "pygments_lexer": "ipython3",
   "version": "3.7.0"
  },
  "varInspector": {
   "cols": {
    "lenName": 16,
    "lenType": 16,
    "lenVar": 40
   },
   "kernels_config": {
    "python": {
     "delete_cmd_postfix": "",
     "delete_cmd_prefix": "del ",
     "library": "var_list.py",
     "varRefreshCmd": "print(var_dic_list())"
    },
    "r": {
     "delete_cmd_postfix": ") ",
     "delete_cmd_prefix": "rm(",
     "library": "var_list.r",
     "varRefreshCmd": "cat(var_dic_list()) "
    }
   },
   "types_to_exclude": [
    "module",
    "function",
    "builtin_function_or_method",
    "instance",
    "_Feature"
   ],
   "window_display": false
  }
 },
 "nbformat": 4,
 "nbformat_minor": 2
}
