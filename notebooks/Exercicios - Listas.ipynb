{
 "cells": [
  {
   "cell_type": "markdown",
   "metadata": {},
   "source": [
    "Em todos os exercícios iremos utilizar o conceito de variáveis para armazenar os valores que iremos operar.\n",
    "Você poderá fazer isso de duas maneiras:\n",
    "1. Declarando diretamente a variável.\n",
    "```python\n",
    "x = 1\n",
    "```\n",
    "2. Utilizando o comando input para salvar o valor na hora da execução.\n",
    "```python\n",
    "x = input('Entre com um valor:')\n",
    "# O comando input salva uma string, para operar com números deve-se converter para o tipo desejado.\n",
    "x = int(input('Entre com um valor:'))\n",
    "x = float(input('Entre com um valor:'))\n",
    "```\n",
    "Leia bem o enunciado e utilize a maneira que você achar mais apropriada a ser utilizada no problema proposto.\n",
    "\n",
    "Se for necessário criar uma função (estrutura que repete um conjunto de operações), utilize a estrutura básica a seguir como exemplo.\n",
    "```python\n",
    "def funcao_qualquer(x,y):\n",
    "    z = x + y\n",
    "    return z\n",
    "```"
   ]
  },
  {
   "cell_type": "raw",
   "metadata": {},
   "source": [
    "1. Escreva um programa em Python que calcula a soma dos elementos de uma lista."
   ]
  },
  {
   "cell_type": "code",
   "execution_count": 2,
   "metadata": {},
   "outputs": [
    {
     "name": "stdout",
     "output_type": "stream",
     "text": [
      "15\n"
     ]
    }
   ],
   "source": [
    "def soma_lista(lst):\n",
    "    return sum(lst)\n",
    "\n",
    "teste = [1, 2, 3, 4, 5]\n",
    "resultado = soma_lista(teste)\n",
    "print(resultado)"
   ]
  },
  {
   "cell_type": "raw",
   "metadata": {},
   "source": [
    "2. Escreva um programa em Python que multiplica os itens de uma lista."
   ]
  },
  {
   "cell_type": "code",
   "execution_count": 4,
   "metadata": {},
   "outputs": [
    {
     "name": "stdout",
     "output_type": "stream",
     "text": [
      "-336\n"
     ]
    }
   ],
   "source": [
    "def multiplica_lista(args):\n",
    "    res = 1\n",
    "    \n",
    "    for n in args:\n",
    "        res *= int(n)\n",
    "    \n",
    "    return res\n",
    "\n",
    "teste = [8, 2, 3, -1, 7]\n",
    "resultado = multiplica_lista(teste)\n",
    "print(resultado)"
   ]
  },
  {
   "cell_type": "raw",
   "metadata": {},
   "source": [
    "3. Escreva um programa em Python que pega o maior número de uma lista."
   ]
  },
  {
   "cell_type": "code",
   "execution_count": 5,
   "metadata": {},
   "outputs": [
    {
     "name": "stdout",
     "output_type": "stream",
     "text": [
      "8\n"
     ]
    }
   ],
   "source": [
    "def max_lista(lista):\n",
    "    return max(lista)\n",
    "\n",
    "teste = [8, 2, 3, -1, 7]\n",
    "resultado = max_lista(teste)\n",
    "print(resultado)"
   ]
  },
  {
   "cell_type": "raw",
   "metadata": {},
   "source": [
    "4. Escreva um programa em Python que conta o número de strings com tamanho 2 ou mais e a primeira e último caracter da string são iguais.\n",
    "Exemplo : ['abc', 'xyz', 'aba', '1221']\n",
    "Resultado Esperado : 2"
   ]
  },
  {
   "cell_type": "code",
   "execution_count": 15,
   "metadata": {},
   "outputs": [
    {
     "name": "stdout",
     "output_type": "stream",
     "text": [
      "2\n"
     ]
    }
   ],
   "source": [
    "def conta_se(lst, condicao):\n",
    "    res = 0\n",
    "    \n",
    "    for txt in lst:\n",
    "        if condicao(txt):\n",
    "            res += 1\n",
    "    \n",
    "    return res\n",
    "\n",
    "def se_tamanho_2_e_extremos_iguais(txt):\n",
    "    if len(txt) < 2:\n",
    "        return False\n",
    "    \n",
    "    if txt[0] != txt[-1]:\n",
    "        return False\n",
    "    \n",
    "    return True\n",
    "\n",
    "teste = ['abc', 'xyz', 'aba', '1221']\n",
    "resultado = conta_se(teste, se_tamanho_2_e_extremos_iguais)\n",
    "print(resultado)"
   ]
  },
  {
   "cell_type": "raw",
   "metadata": {},
   "source": [
    "5. Escreva um programa em Python que pega uma lista, ordena pelo último elemento da tupla.\n",
    "Exemplo : [(2, 5), (1, 2), (4, 4), (2, 3), (2, 1)]\n",
    "Resultado Esperado : [(2, 1), (1, 2), (2, 3), (4, 4), (2, 5)]"
   ]
  },
  {
   "cell_type": "code",
   "execution_count": 17,
   "metadata": {},
   "outputs": [
    {
     "name": "stdout",
     "output_type": "stream",
     "text": [
      "[(2, 1), (1, 2), (2, 3), (4, 4), (2, 5)]\n"
     ]
    }
   ],
   "source": [
    "def ordena_por_tupla(lst):\n",
    "    res = sorted(lst, key=lambda x: x[-1])\n",
    "    return res\n",
    "    \n",
    "teste = [(2, 5), (1, 2), (4, 4), (2, 3), (2, 1)]\n",
    "resultado = ordena_por_tupla(teste)\n",
    "print(resultado)"
   ]
  },
  {
   "cell_type": "raw",
   "metadata": {},
   "source": [
    "6. Escreva um programa em Python para remover os valores duplicados de uma lista."
   ]
  },
  {
   "cell_type": "code",
   "execution_count": 19,
   "metadata": {},
   "outputs": [
    {
     "name": "stdout",
     "output_type": "stream",
     "text": [
      "[1, 2, 3]\n"
     ]
    }
   ],
   "source": [
    "def remove_duplicados(lst):\n",
    "    res = set(lst)\n",
    "    return list(res)\n",
    "    \n",
    "teste = [1, 2, 3, 3, 2, 1]\n",
    "resultado = remove_duplicados(teste)\n",
    "print(resultado)"
   ]
  },
  {
   "cell_type": "raw",
   "metadata": {},
   "source": [
    "7. Escreva um programa em Python para clonar ou copiar uma lista."
   ]
  },
  {
   "cell_type": "code",
   "execution_count": 21,
   "metadata": {},
   "outputs": [
    {
     "name": "stdout",
     "output_type": "stream",
     "text": [
      "[1, 2, 3, 3, 2, 1]\n"
     ]
    }
   ],
   "source": [
    "def copia_lista(lst):\n",
    "    # quando o método list() recebe uma lista, ele retorna uma cópia\n",
    "    # o mesmo que iterable[:]\n",
    "    return list(lst) \n",
    "\n",
    "teste = [1, 2, 3, 3, 2, 1]\n",
    "resultado = copia_lista(teste)\n",
    "print(resultado)"
   ]
  },
  {
   "cell_type": "raw",
   "metadata": {},
   "source": [
    "8. Escreva um programa em Python para achar as palavras com mais de n caracteres em uma lista de palavras."
   ]
  },
  {
   "cell_type": "code",
   "execution_count": 24,
   "metadata": {},
   "outputs": [
    {
     "name": "stdout",
     "output_type": "stream",
     "text": [
      "['arara', 'casa', 'escola']\n"
     ]
    }
   ],
   "source": [
    "def retorna_se(lst, n, condicao):\n",
    "    res = []\n",
    "    \n",
    "    for txt in lst:\n",
    "        if condicao(txt, n):\n",
    "            res.append(txt)\n",
    "    \n",
    "    return res\n",
    "\n",
    "def se_tamanho_maior_que(txt, n):\n",
    "    if len(txt) < n:\n",
    "        return False\n",
    "    \n",
    "    return True\n",
    "\n",
    "n_char = 4\n",
    "teste = ['arara', 'casa', 'escola', 'rua', 'lua']\n",
    "resultado = retorna_se(teste, n_char, se_tamanho_maior_que)\n",
    "print(resultado)"
   ]
  },
  {
   "cell_type": "raw",
   "metadata": {},
   "source": [
    "9. Escreva um programa para criar uma matriz 3x4 com cada elemento sendo do tipo None."
   ]
  },
  {
   "cell_type": "raw",
   "metadata": {},
   "source": [
    "10. Escreva um programa que imprima os números de uma lista específica após remover os números pares dela."
   ]
  },
  {
   "cell_type": "raw",
   "metadata": {},
   "source": [
    "11. Escreva um programa para converter uma lista de caracteres em uma string."
   ]
  },
  {
   "cell_type": "code",
   "execution_count": 66,
   "metadata": {},
   "outputs": [
    {
     "name": "stdout",
     "output_type": "stream",
     "text": [
      "arara\n"
     ]
    }
   ],
   "source": [
    "def retorna_string(lst):\n",
    "    return \"\".join(lst)\n",
    "\n",
    "teste = ['a', 'r', 'a', 'r', 'a']\n",
    "resultado = retorna_string(teste)\n",
    "print(resultado)"
   ]
  },
  {
   "cell_type": "raw",
   "metadata": {},
   "source": [
    "12. Escreva um programa para encontrar o índice de um item na lista especificada."
   ]
  },
  {
   "cell_type": "raw",
   "metadata": {},
   "source": [
    "13. Escreva um programa para anexar uma lista em outra lista."
   ]
  },
  {
   "cell_type": "raw",
   "metadata": {},
   "source": [
    "14. Escreva um programa para pegar os valores únicos de uma lista."
   ]
  },
  {
   "cell_type": "raw",
   "metadata": {},
   "source": [
    "15. Escreva um programa para contar o número de elementos numa lista dentro de determinado alcance."
   ]
  },
  {
   "cell_type": "raw",
   "metadata": {},
   "source": [
    "16. Escreva um programa para criar uma lista concatenando uma lista dada com o alcance de números de 1 a n como no exemplo abaixo.\n",
    "Exemplo de lista : ['p', 'q']\n",
    "n =5\n",
    "Resultado esperado : ['p1', 'q1', 'p2', 'q2', 'p3', 'q3', 'p4', 'q4', 'p5', 'q5']"
   ]
  },
  {
   "cell_type": "code",
   "execution_count": 7,
   "metadata": {},
   "outputs": [
    {
     "name": "stdout",
     "output_type": "stream",
     "text": [
      "['p1', 'q1', 'p2', 'q2', 'p3', 'q3', 'p4', 'q4', 'p5', 'q5']\n"
     ]
    }
   ],
   "source": [
    "def insere_sufixo_por_intervalo(lst, intervalo):\n",
    "    res = []\n",
    "\n",
    "    for i in range(1, intervalo+1): \n",
    "        [res.append(t + str(i)) for t in lst]\n",
    "        \n",
    "    return res\n",
    "\n",
    "num = 5\n",
    "texto = ['p', 'q']\n",
    "resultado = insere_sufixo_por_intervalo(texto, num)\n",
    "print(resultado)"
   ]
  },
  {
   "cell_type": "code",
   "execution_count": null,
   "metadata": {},
   "outputs": [],
   "source": [
    "def insere_sufixo(lst, texto): \n",
    "    return [texto + str(i) for i in lst]\n",
    "\n",
    "def insere_sufixo_por_intervalo(lst, intervalo)\n",
    "    return [insere_sufixo(range(1, intervalo+1), i) for i in lst]\n",
    "\n",
    "num = 5\n",
    "texto = ['p', 'q']\n",
    "resultado = insere_sufixo_por_intervalo(testo, num)\n",
    "print(resultado)"
   ]
  },
  {
   "cell_type": "raw",
   "metadata": {},
   "source": [
    "17. Escreva um programa para achar os itens comunsa duas listas."
   ]
  },
  {
   "cell_type": "code",
   "execution_count": 68,
   "metadata": {},
   "outputs": [
    {
     "name": "stdout",
     "output_type": "stream",
     "text": [
      "[1, 3, 4, 5]\n"
     ]
    }
   ],
   "source": [
    "def intersecao(lst1, lst2):\n",
    "    return list(set(lst1) & set(lst2))\n",
    "\n",
    "teste1 = [0,1,2,3,5,4]\n",
    "teste2 = [1,5,9,8,4,3]\n",
    "resultado = intersecao(teste1, teste2)\n",
    "print(resultado)"
   ]
  },
  {
   "cell_type": "raw",
   "metadata": {},
   "source": [
    "18. Escreva um programa que troque a a posição de cada par de valores na lista como no exemplo.\n",
    "Lista Exemplo: [0,1,2,3,4,5]\n",
    "Resultado Esperado: [1, 0, 3, 2, 5, 4]"
   ]
  },
  {
   "cell_type": "raw",
   "metadata": {},
   "source": [
    "19. Escreva um programa  para converter uma lista de inteiros em apenas um inteiro.\n",
    "Exemplo: [11, 33, 50]\n",
    "Resultado: 113350"
   ]
  },
  {
   "cell_type": "raw",
   "metadata": {},
   "source": [
    "20. Escreva um programa  para achar a lista numa lista de listas aquela em que a soma dos elementos possui o maior valor.\n",
    "Exemplo: [1,2,3], [4,5,6], [10,11,12], [7,8,9]\n",
    "Resultado: [10, 11, 12]"
   ]
  },
  {
   "cell_type": "raw",
   "metadata": {},
   "source": [
    "21. Escreva um programa em Python que seleciona os itens ímpares em uma lista."
   ]
  },
  {
   "cell_type": "raw",
   "metadata": {},
   "source": [
    "22. Escreva um programa em Python que insere um elemento antes de cada elemento da lista."
   ]
  },
  {
   "cell_type": "raw",
   "metadata": {},
   "source": [
    "23. Escreva um programa para converter 2 listas relacionadas a cores e seus códigos para dicionário como no exemplo.\n",
    "Exemplo: [\"Black\", \"Red\", \"Maroon\", \"Yellow\"], [\"#000000\", \"#FF0000\", \"#800000\", \"#FFFF00\"]\n",
    "Saída esperada: [{'cor_nome': 'Black', 'cor_codigo': '#000000'}, {'cor_nome': 'Red', 'cor_codigo': '#FF0000'}, {'cor_nome': 'Maroon', 'cor_codigo': '#800000'}, {'cor_nome': 'Yellow', 'cor_codigo': '#FFFF00'}]"
   ]
  },
  {
   "cell_type": "raw",
   "metadata": {},
   "source": [
    "24. Escreva um programa em Python para concatenar os elementos de uma lista."
   ]
  },
  {
   "cell_type": "raw",
   "metadata": {},
   "source": [
    "25. Escreva um programa em Python para verificar se todos os itens de uma lista são iguais a uma determinada string."
   ]
  },
  {
   "cell_type": "raw",
   "metadata": {},
   "source": [
    "26. Escreva um programa para substituir o último elemento da lista por outra lista.\n",
    "Exemplo : [1, 3, 5, 7, 9, 10], [2, 4, 6, 8]\n",
    "Resultado: [1, 3, 5, 7, 9, 2, 4, 6, 8]"
   ]
  },
  {
   "cell_type": "raw",
   "metadata": {},
   "source": [
    "27. Escreva um programa para verificar se o enésimo elemento existe na lista"
   ]
  },
  {
   "cell_type": "raw",
   "metadata": {},
   "source": [
    "28. Escreva um programa que insere uma determinada string no inicio de todos os itens de uma lista.\n",
    "Exemplo : [1,2,3,4], string : emp\n",
    "Resultado : ['emp1', 'emp2', 'emp3', 'emp4']"
   ]
  },
  {
   "cell_type": "code",
   "execution_count": 65,
   "metadata": {},
   "outputs": [
    {
     "name": "stdout",
     "output_type": "stream",
     "text": [
      "['emp1', 'emp2', 'emp3', 'emp4']\n"
     ]
    }
   ],
   "source": [
    "def insere_sufixo(lst, texto): \n",
    "    return [texto + str(i) for i in lst]\n",
    "\n",
    "teste = [1,2,3,4]\n",
    "texto = 'emp'\n",
    "resultado = insere_sufixo(teste, texto)\n",
    "print(resultado)"
   ]
  },
  {
   "cell_type": "raw",
   "metadata": {},
   "source": [
    "29. Faça um programa que calcule todos os números primos até N.\n",
    "* Para calcular se um número primo só precisamos verificar até o valor inteiro mais baixo próximo a raiz quadrada do número.\n",
    " * Ex: 13 é primo pois não é divisível por nenhum número menor que a raiz de 13 que é 3.6 , não é necessário verificar o próximo fator primo que seria o 5.\n",
    "* Sobre números primos: https://pt.wikipedia.org/wiki/Número_primo"
   ]
  },
  {
   "cell_type": "code",
   "execution_count": 53,
   "metadata": {},
   "outputs": [
    {
     "name": "stdout",
     "output_type": "stream",
     "text": [
      "[2, 3, 5, 7, 11, 13, 17, 19, 23, 29, 31, 37, 41, 43, 47]\n"
     ]
    }
   ],
   "source": [
    "import math\n",
    "\n",
    "def verifica_primo(num):\n",
    "    res = []\n",
    "    limite = int(math.sqrt(num)) + 1\n",
    "    \n",
    "    for i in range(1, limite): \n",
    "        if num % i == 0: # conta divisores positivos\n",
    "            res.append(i) \n",
    "            \n",
    "        if len(res) > 1: # não primo\n",
    "            return False\n",
    "\n",
    "    return True\n",
    "\n",
    "def retorna_primos(limite): \n",
    "    for i in range(2, limite +1):\n",
    "        if verifica_primo(i):\n",
    "            yield i\n",
    "\n",
    "teste = 50\n",
    "resultado = list(retorna_primos(teste))\n",
    "print(resultado)"
   ]
  },
  {
   "cell_type": "raw",
   "metadata": {},
   "source": [
    "30. Escreva um programa em Python para achar todos os valores numa lista que são maiores que um número especificado."
   ]
  },
  {
   "cell_type": "code",
   "execution_count": 42,
   "metadata": {},
   "outputs": [
    {
     "name": "stdout",
     "output_type": "stream",
     "text": [
      "[4, 5, 4, 5, 6, 7, 8]\n"
     ]
    }
   ],
   "source": [
    "def retorna_se(lst, n, condicao):\n",
    "    res = []\n",
    "    \n",
    "    for txt in lst:\n",
    "        if condicao(txt, n):\n",
    "            res.append(txt)\n",
    "    \n",
    "    return res\n",
    "\n",
    "def se_valor_maior_que(v, n):\n",
    "    if v < n:\n",
    "        return False\n",
    "    \n",
    "    return True\n",
    "\n",
    "n_char = 4\n",
    "teste = [1, 2, 3, 4, 5, 4, 5, 6, 7, 8, 2]\n",
    "resultado = retorna_se(teste, n_char, se_valor_maior_que)\n",
    "print(resultado)"
   ]
  },
  {
   "cell_type": "raw",
   "metadata": {},
   "source": [
    "31. Escreva um programa para extender uma lista sem utilizar o comando append.\n",
    "Exemplo: [10, 20, 30]\n",
    "[40, 50, 60]\n",
    "Resultado : [40, 50, 60, 10, 20, 30]"
   ]
  },
  {
   "cell_type": "code",
   "execution_count": 41,
   "metadata": {},
   "outputs": [
    {
     "name": "stdout",
     "output_type": "stream",
     "text": [
      "[10, 20, 30, 40, 50, 60]\n"
     ]
    }
   ],
   "source": [
    "def extender_lista(lst, el):\n",
    "    lst.extend([el])\n",
    "\n",
    "teste = [10, 20, 30]\n",
    "[extender_lista(teste, i) for i in [40, 50, 60]]\n",
    "print(teste)"
   ]
  },
  {
   "cell_type": "raw",
   "metadata": {},
   "source": [
    "32. Escreva um programa para remover os itens duplicados.\n",
    "Sample list : [[10, 20], [40], [30, 56, 25], [10, 20], [33], [40]]\n",
    "New List : [[10, 20], [30, 56, 25], [33], [40]]"
   ]
  },
  {
   "cell_type": "code",
   "execution_count": 30,
   "metadata": {},
   "outputs": [
    {
     "name": "stdout",
     "output_type": "stream",
     "text": [
      "[[10, 20], [30, 56, 25], [33], [40]]\n"
     ]
    }
   ],
   "source": [
    "import itertools\n",
    "\n",
    "def remove_duplicados_lista(lst):\n",
    "    lst.sort()\n",
    "    res = list(i for i,_ in itertools.groupby(lst))\n",
    "    return res\n",
    "    \n",
    "teste = [[10, 20], [40], [30, 56, 25], [10, 20], [33], [40]]\n",
    "resultado = remove_duplicados_lista(teste)\n",
    "print(resultado)"
   ]
  }
 ],
 "metadata": {
  "kernelspec": {
   "display_name": "Python 3",
   "language": "python",
   "name": "python3"
  },
  "language_info": {
   "codemirror_mode": {
    "name": "ipython",
    "version": 3
   },
   "file_extension": ".py",
   "mimetype": "text/x-python",
   "name": "python",
   "nbconvert_exporter": "python",
   "pygments_lexer": "ipython3",
   "version": "3.7.0"
  },
  "varInspector": {
   "cols": {
    "lenName": 16,
    "lenType": 16,
    "lenVar": 40
   },
   "kernels_config": {
    "python": {
     "delete_cmd_postfix": "",
     "delete_cmd_prefix": "del ",
     "library": "var_list.py",
     "varRefreshCmd": "print(var_dic_list())"
    },
    "r": {
     "delete_cmd_postfix": ") ",
     "delete_cmd_prefix": "rm(",
     "library": "var_list.r",
     "varRefreshCmd": "cat(var_dic_list()) "
    }
   },
   "types_to_exclude": [
    "module",
    "function",
    "builtin_function_or_method",
    "instance",
    "_Feature"
   ],
   "window_display": false
  }
 },
 "nbformat": 4,
 "nbformat_minor": 2
}
