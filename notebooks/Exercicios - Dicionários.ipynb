{
 "cells": [
  {
   "cell_type": "markdown",
   "metadata": {},
   "source": [
    "Em todos os exercícios iremos utilizar o conceito de variáveis para armazenar os valores que iremos operar.\n",
    "Você poderá fazer isso de duas maneiras:\n",
    "1. Declarando diretamente a variável.\n",
    "```python\n",
    "x = 1\n",
    "```\n",
    "2. Utilizando o comando input para salvar o valor na hora da execução.\n",
    "```python\n",
    "x = input('Entre com um valor:')\n",
    "# O comando input salva uma string, para operar com números deve-se converter para o tipo desejado.\n",
    "x = int(input('Entre com um valor:'))\n",
    "x = float(input('Entre com um valor:'))\n",
    "```\n",
    "Leia bem o enunciado e utilize a maneira que você achar mais apropriada a ser utilizada no problema proposto.\n",
    "\n",
    "Se for necessário criar uma função (estrutura que repete um conjunto de operações), utilize a estrutura básica a seguir como exemplo.\n",
    "```python\n",
    "def funcao_qualquer(x,y):\n",
    "    z = x + y\n",
    "    return z\n",
    "```"
   ]
  },
  {
   "cell_type": "raw",
   "metadata": {},
   "source": [
    "1. Escreva um programa para adicionar um item a um dicionário.\n",
    "Exemplo : {0: 10, 1: 20}\n",
    "Resultado : {0: 10, 1: 20, 2: 30}"
   ]
  },
  {
   "cell_type": "code",
   "execution_count": null,
   "metadata": {
    "collapsed": true
   },
   "outputs": [],
   "source": [
    "def adicionarItem(dic):\n",
    "    k = input('Entre com uma chave:')\n",
    "    v = input('Entre com um valor:')\n",
    "    dic[int(k)] = int(v)\n",
    "    \n",
    "dic1={1:10, 2:20} \n",
    "adicionarItem(dic1)\n",
    "\n",
    "print(dic1)"
   ]
  },
  {
   "cell_type": "raw",
   "metadata": {},
   "source": [
    "2. Escreva um programa para concatenar os seguintes dicionários para criar um novo.\n",
    "Exemplos:\n",
    "dic1={1:10, 2:20} \n",
    "dic2={3:30, 4:40} \n",
    "dic3={5:50,6:60}\n",
    "Resultado : {1: 10, 2: 20, 3: 30, 4: 40, 5: 50, 6: 60}"
   ]
  },
  {
   "cell_type": "code",
   "execution_count": 9,
   "metadata": {
    "collapsed": false
   },
   "outputs": [
    {
     "name": "stdout",
     "output_type": "stream",
     "text": [
      "{1: 10, 2: 20, 3: 30, 4: 40, 5: 50, 6: 60}\n"
     ]
    }
   ],
   "source": [
    "def concatenar(*dicts): \n",
    "    res = {}\n",
    "    for i in dicts:\n",
    "        res = {**res, **i}\n",
    "    return res\n",
    "\n",
    "dic1 = {1:10, 2:20} \n",
    "dic2 = {3:30, 4:40} \n",
    "dic3 = {5:50, 6:60}\n",
    "res = concatenar(dic1, dic2, dic3)\n",
    "print(res)"
   ]
  },
  {
   "cell_type": "raw",
   "metadata": {},
   "source": [
    "3. Crie um script para verificar se uma chave já existe no dicionário."
   ]
  },
  {
   "cell_type": "code",
   "execution_count": 20,
   "metadata": {
    "collapsed": false
   },
   "outputs": [
    {
     "name": "stdout",
     "output_type": "stream",
     "text": [
      "Entre com uma chave:3\n",
      "False\n"
     ]
    }
   ],
   "source": [
    "def verificarChave(dic, key):\n",
    "    return key in dic\n",
    "\n",
    "dic1={1:10, 2:20} \n",
    "chave = input('Entre com uma chave:')\n",
    "existe = verificarChave(dic1, int(chave))\n",
    "\n",
    "print(existe)"
   ]
  },
  {
   "cell_type": "raw",
   "metadata": {},
   "source": [
    "4. Escreva um algoritmo para gerar e imprima um dicionário que contenha os números entre 1 e n na forma (x , x*x).\n",
    "Exemplo ( n = 5) : \n",
    "Resultado : {1: 1, 2: 4, 3: 9, 4: 16, 5: 25}"
   ]
  },
  {
   "cell_type": "code",
   "execution_count": 23,
   "metadata": {
    "collapsed": false
   },
   "outputs": [
    {
     "name": "stdout",
     "output_type": "stream",
     "text": [
      "Entre com uma limite:5\n",
      "{1: 1, 2: 4, 3: 9, 4: 16, 5: 25}\n"
     ]
    }
   ],
   "source": [
    "def gerarDicionario(limite):\n",
    "    res = {}\n",
    "    for i in range(1, limite + 1):\n",
    "        res[i] = i*i\n",
    "    return res\n",
    "\n",
    "limite = input('Entre com uma limite:')\n",
    "res = gerarDicionario(int(limite))\n",
    "\n",
    "print(res)"
   ]
  },
  {
   "cell_type": "raw",
   "metadata": {},
   "source": [
    "5. Escreva um programa para iterar nos dicionários usando um laço for."
   ]
  },
  {
   "cell_type": "code",
   "execution_count": 28,
   "metadata": {
    "collapsed": false
   },
   "outputs": [
    {
     "name": "stdout",
     "output_type": "stream",
     "text": [
      "chave: 0, valor: 10\n",
      "chave: 1, valor: 20\n",
      "chave: 2, valor: 30\n"
     ]
    }
   ],
   "source": [
    "def iterarDicionario(dic):\n",
    "    for i in dic:\n",
    "        chave = i\n",
    "        valor = dic[i]\n",
    "        print(\"chave: %s, valor: %s\" % (chave, valor))\n",
    "    \n",
    "dic = {0: 10, 1: 20, 2: 30}\n",
    "iterarDicionario(dic)"
   ]
  },
  {
   "cell_type": "raw",
   "metadata": {},
   "source": [
    "6. Escreva um programa para somar todos os itens de um dicionário."
   ]
  },
  {
   "cell_type": "code",
   "execution_count": 31,
   "metadata": {
    "collapsed": false
   },
   "outputs": [
    {
     "name": "stdout",
     "output_type": "stream",
     "text": [
      "60\n"
     ]
    }
   ],
   "source": [
    "def somarDicionario(dic):\n",
    "    return dic.values())\n",
    "    \n",
    "dic = {0: 10, 1: 20, 2: 30}\n",
    "total = somarDicionario(dic)\n",
    "\n",
    "print(total)"
   ]
  },
  {
   "cell_type": "raw",
   "metadata": {},
   "source": [
    "7. Escreva um programa para multiplicar todos os itens de um dicionário."
   ]
  },
  {
   "cell_type": "code",
   "execution_count": 33,
   "metadata": {
    "collapsed": false
   },
   "outputs": [
    {
     "name": "stdout",
     "output_type": "stream",
     "text": [
      "6000\n"
     ]
    }
   ],
   "source": [
    "import operator\n",
    "from functools import reduce\n",
    "\n",
    "def multiplicarDicionario(dic):\n",
    "    return reduce(operator.mul, dic.values(), 1)\n",
    "    \n",
    "dic = {0: 10, 1: 20, 2: 30}\n",
    "total = multiplicarDicionario(dic)\n",
    "\n",
    "print(total)"
   ]
  },
  {
   "cell_type": "raw",
   "metadata": {},
   "source": [
    "8. Escreva um programa para remover uma chave de um dicionário."
   ]
  },
  {
   "cell_type": "code",
   "execution_count": 3,
   "metadata": {
    "collapsed": false
   },
   "outputs": [
    {
     "name": "stdout",
     "output_type": "stream",
     "text": [
      "{0: 10, 2: 30}\n"
     ]
    }
   ],
   "source": [
    "def removerItem(chave, dic):\n",
    "    if (chave in dic):\n",
    "        dic.pop(chave, 0)\n",
    "    return dic\n",
    "dic = {0: 10, 1: 20, 2: 30}\n",
    "removerItem(1, dic)\n",
    "print(dic)"
   ]
  },
  {
   "cell_type": "raw",
   "metadata": {},
   "source": [
    "9. Escreva um programa para mapear 2 listas em um dicionário. "
   ]
  },
  {
   "cell_type": "raw",
   "metadata": {},
   "source": [
    "10. Escreva um programa para pegar o maior e o menor valor em um dicionário."
   ]
  },
  {
   "cell_type": "code",
   "execution_count": 19,
   "metadata": {
    "collapsed": false
   },
   "outputs": [
    {
     "name": "stdout",
     "output_type": "stream",
     "text": [
      "300\n",
      "100\n"
     ]
    }
   ],
   "source": [
    "def maiorValor(dic):\n",
    "    return max(dic.values())\n",
    "\n",
    "def menorValor(dic):\n",
    "    return min(dic.values())\n",
    "\n",
    "d1 = {'a': 100, 'b': 200, 'c':300}\n",
    "print(maiorValor(d1))\n",
    "print(menorValor(d1))"
   ]
  },
  {
   "cell_type": "raw",
   "metadata": {},
   "source": [
    "11. Escreva um programa para combinar dois dicionários e somar os valores das chaves comuns.\n",
    "d1 = {'a': 100, 'b': 200, 'c':300}\n",
    "d2 = {'a': 300, 'b': 200, 'd':400}\n",
    "Resultado: {'a': 400, 'b': 400, 'd': 400, 'c': 300}"
   ]
  },
  {
   "cell_type": "code",
   "execution_count": 5,
   "metadata": {
    "collapsed": false
   },
   "outputs": [
    {
     "name": "stdout",
     "output_type": "stream",
     "text": [
      "{'a': 400, 'b': 400, 'c': 300, 'd': 400}\n"
     ]
    }
   ],
   "source": [
    "def combinarDicionarios(*dicts):\n",
    "    res = {}\n",
    "    for dic in dicts:\n",
    "        for i in dic:\n",
    "            if i in res:\n",
    "                res[i] = res[i] + dic[i]\n",
    "            else: \n",
    "                res[i] = dic[i]\n",
    "    return res\n",
    "\n",
    "d1 = {'a': 100, 'b': 200, 'c':300}\n",
    "d2 = {'a': 300, 'b': 200, 'd':400}\n",
    "d3 = combinarDicionarios(d1, d2)\n",
    "print(d3)"
   ]
  },
  {
   "cell_type": "raw",
   "metadata": {},
   "source": [
    "12. Escreva um programa que retorna todos os valore únicos no dicionário.\n",
    "Exemplo: [{\"V\":\"S001\"}, {\"V\": \"S002\"}, {\"VI\": \"S001\"}, {\"VI\": \"S005\"}, {\"VII\":\"S005\"}, {\"V\":\"S009\"},{\"VIII\":\"S007\"}]\n",
    "Resultado Esperado : Valores únicos: 'S005', 'S002', 'S007', 'S001', 'S009'"
   ]
  },
  {
   "cell_type": "code",
   "execution_count": 46,
   "metadata": {
    "collapsed": false
   },
   "outputs": [
    {
     "name": "stdout",
     "output_type": "stream",
     "text": [
      "{'S005', 'S007', 'S001', 'S002', 'S009'}\n"
     ]
    }
   ],
   "source": [
    "def retornaUnicos(dictList):\n",
    "    result = set()\n",
    "    for dic in dictList:\n",
    "        result.add(list(dic.values())[0])\n",
    "    return result\n",
    "\n",
    "dic1 = [{\"V\":\"S001\"}, {\"V\": \"S002\"}, {\"VI\": \"S001\"}, {\"VI\": \"S005\"}, {\"VII\":\"S005\"}, {\"V\":\"S009\"},{\"VIII\":\"S007\"}]\n",
    "unicos = retornaUnicos(dic1)\n",
    "\n",
    "print(unicos)"
   ]
  },
  {
   "cell_type": "raw",
   "metadata": {},
   "source": [
    "13. Escreva um programa  para combinar valores em uma lista de dicionários.\n",
    "Dados exemplos: [{'item': 'item1', 'amount': 400}, {'item': 'item2', 'amount': 300}, {'item': 'item1', 'amount': 750}]\n",
    "Resultado: {'item1': 1150, 'item2': 300}"
   ]
  },
  {
   "cell_type": "code",
   "execution_count": 11,
   "metadata": {
    "collapsed": false
   },
   "outputs": [
    {
     "name": "stdout",
     "output_type": "stream",
     "text": [
      "{'item1': 1150, 'item2': 300}\n"
     ]
    }
   ],
   "source": [
    "def combinarDicionarios(*dicts):\n",
    "    res = {}\n",
    "    for dic in dicts:\n",
    "        chave = dic['item']\n",
    "        valor = dic['amount']\n",
    "        if chave in res:\n",
    "            res[chave] = res[chave] + valor\n",
    "        else:\n",
    "            res[chave] = valor\n",
    "    return res\n",
    "\n",
    "dic_list =  [{'item': 'item1', 'amount': 400}, {'item': 'item2', 'amount': 300}, {'item': 'item1', 'amount': 750}]\n",
    "dic = combinarDicionarios(*dic_list)\n",
    "print(dic)"
   ]
  },
  {
   "cell_type": "raw",
   "metadata": {},
   "source": [
    "14. Escreva um programa para criar um dicionário onde as chaves são os caracteres de uma string e os valores são a quantidade de vezes que cada caracter aparece.\n",
    "String Exemplo : 'progresso'\n",
    "Resultado Esperado: {'p': 1, 'r': 2, 'o': 2, 'g': 1, 'e': 1, 's': 2}"
   ]
  },
  {
   "cell_type": "code",
   "execution_count": 23,
   "metadata": {
    "collapsed": false
   },
   "outputs": [
    {
     "name": "stdout",
     "output_type": "stream",
     "text": [
      "{'p': 1, 'r': 2, 'o': 2, 'g': 1, 'e': 1, 's': 2}\n"
     ]
    }
   ],
   "source": [
    "def dic_string(str1):\n",
    "    res = {}\n",
    "    for c in range(len(str1)):\n",
    "        chave = str1[c]\n",
    "        total = 1\n",
    "        if chave in res:\n",
    "            total = total + res[chave]\n",
    "        res[chave] = total\n",
    "    return res\n",
    "\n",
    "s= \"progresso\"\n",
    "dic = dic_string(s)\n",
    "\n",
    "print(dic)"
   ]
  },
  {
   "cell_type": "raw",
   "metadata": {},
   "source": [
    "15. Escreva um programa para pegar uma chave, valor e um item no dicionário."
   ]
  },
  {
   "cell_type": "raw",
   "metadata": {},
   "source": [
    "16. Escreva um programa que mostra cada item linha por linha. "
   ]
  },
  {
   "cell_type": "code",
   "execution_count": 27,
   "metadata": {
    "collapsed": false
   },
   "outputs": [
    {
     "name": "stdout",
     "output_type": "stream",
     "text": [
      "chave: p, valor: 1\n",
      "chave: r, valor: 2\n",
      "chave: o, valor: 2\n",
      "chave: g, valor: 1\n",
      "chave: e, valor: 1\n",
      "chave: s, valor: 2\n"
     ]
    }
   ],
   "source": [
    "def imprimir(dic):\n",
    "    for i in dic:\n",
    "        print(\"chave: %s, valor: %s\" % (i, dic[i]))\n",
    "\n",
    "dic1 = {'p': 1, 'r': 2, 'o': 2, 'g': 1, 'e': 1, 's': 2}\n",
    "imprimir(dic)"
   ]
  },
  {
   "cell_type": "raw",
   "metadata": {},
   "source": [
    "17. Escreva um programa para contar o número de itens em um dicionário que é uma lista."
   ]
  },
  {
   "cell_type": "raw",
   "metadata": {},
   "source": [
    "18. Escreva um programa que retorna se dois dicionários possuem o mesmo item.\n",
    "Exemplo: {'key1': 1, 'key2': 3, 'key3': 2}, {'key1': 1, 'key2': 2}\n",
    "Resultado: key1: 1 está presente em x e y"
   ]
  },
  {
   "cell_type": "code",
   "execution_count": 29,
   "metadata": {
    "collapsed": false
   },
   "outputs": [
    {
     "name": "stdout",
     "output_type": "stream",
     "text": [
      "chave: key1, está presente em {'key1': 1, 'key2': 3, 'key3': 2} e em {'key1': 1, 'key2': 2}\n",
      "chave: key2, está presente em {'key1': 1, 'key2': 3, 'key3': 2} e em {'key1': 1, 'key2': 2}\n"
     ]
    }
   ],
   "source": [
    "def item_em_comum(dic1, dic2):\n",
    "    for i in dic1:\n",
    "        if i in dic2:\n",
    "            print(\"chave: %s, está presente em %s e em %s\" % (i, dic1, dic2))\n",
    "d1 = {'key1': 1, 'key2': 3, 'key3': 2}\n",
    "d2 = {'key1': 1, 'key2': 2}\n",
    "\n",
    "item_em_comum(d1, d2)"
   ]
  }
 ],
 "metadata": {
  "kernelspec": {
   "display_name": "Python 3",
   "language": "python",
   "name": "python3"
  },
  "language_info": {
   "codemirror_mode": {
    "name": "ipython",
    "version": 3
   },
   "file_extension": ".py",
   "mimetype": "text/x-python",
   "name": "python",
   "nbconvert_exporter": "python",
   "pygments_lexer": "ipython3",
   "version": "3.6.0"
  },
  "varInspector": {
   "cols": {
    "lenName": 16,
    "lenType": 16,
    "lenVar": 40
   },
   "kernels_config": {
    "python": {
     "delete_cmd_postfix": "",
     "delete_cmd_prefix": "del ",
     "library": "var_list.py",
     "varRefreshCmd": "print(var_dic_list())"
    },
    "r": {
     "delete_cmd_postfix": ") ",
     "delete_cmd_prefix": "rm(",
     "library": "var_list.r",
     "varRefreshCmd": "cat(var_dic_list()) "
    }
   },
   "types_to_exclude": [
    "module",
    "function",
    "builtin_function_or_method",
    "instance",
    "_Feature"
   ],
   "window_display": false
  }
 },
 "nbformat": 4,
 "nbformat_minor": 2
}
