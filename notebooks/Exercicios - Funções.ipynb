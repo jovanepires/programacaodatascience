{
 "cells": [
  {
   "cell_type": "markdown",
   "metadata": {},
   "source": [
    "Em todos os exercícios iremos utilizar o conceito de variáveis para armazenar os valores que iremos operar.\n",
    "Você poderá fazer isso de duas maneiras:\n",
    "1. Declarando diretamente a variável.\n",
    "```python\n",
    "x = 1\n",
    "```\n",
    "2. Utilizando o comando input para salvar o valor na hora da execução.\n",
    "```python\n",
    "x = input('Entre com um valor:')\n",
    "# O comando input salva uma string, para operar com números deve-se converter para o tipo desejado.\n",
    "x = int(input('Entre com um valor:'))\n",
    "x = float(input('Entre com um valor:'))\n",
    "```\n",
    "Leia bem o enunciado e utilize a maneira que você achar mais apropriada a ser utilizada no problema proposto.\n",
    "\n",
    "Se for necessário criar uma função (estrutura que repete um conjunto de operações), utilize a estrutura básica a seguir como exemplo.\n",
    "```python\n",
    "def funcao_qualquer(x,y):\n",
    "    z = x + y\n",
    "    return z\n",
    "```"
   ]
  },
  {
   "cell_type": "raw",
   "metadata": {},
   "source": [
    "1. Escreva uma função em Python para achar o máximo entre 3 números."
   ]
  },
  {
   "cell_type": "code",
   "execution_count": 2,
   "metadata": {},
   "outputs": [
    {
     "name": "stdout",
     "output_type": "stream",
     "text": [
      "6\n"
     ]
    }
   ],
   "source": [
    "def numero_maximo(*args):\n",
    "    res = -1\n",
    "    \n",
    "    for n in args:\n",
    "        if int(n) > res:\n",
    "            res = int(n)\n",
    "    \n",
    "    return res\n",
    "\n",
    "teste = numero_maximo(4, 6, 1)\n",
    "print(teste)"
   ]
  },
  {
   "cell_type": "raw",
   "metadata": {},
   "source": [
    "2. Escreva uma função em python para achar a soma de todos os números em uma lista.\n",
    "Exemplo Entrada : (8, 2, 3, 0, 7)\n",
    "Exemplo Saída : 20 "
   ]
  },
  {
   "cell_type": "code",
   "execution_count": 4,
   "metadata": {},
   "outputs": [
    {
     "name": "stdout",
     "output_type": "stream",
     "text": [
      "20\n"
     ]
    }
   ],
   "source": [
    "def soma_lista(*args):\n",
    "    res = 0\n",
    "    \n",
    "    for n in args:\n",
    "        res += int(n)\n",
    "    \n",
    "    return res\n",
    "\n",
    "teste = soma_lista(8, 2, 3, 0, 7)\n",
    "print(teste)"
   ]
  },
  {
   "cell_type": "raw",
   "metadata": {},
   "source": [
    "3. Escreva uma função em Python que retorna o produto de uma lista de números.\n",
    "Exemplo Entrada : (8, 2, 3, -1, 7)\n",
    "Exemplo Saída : -336 "
   ]
  },
  {
   "cell_type": "code",
   "execution_count": 10,
   "metadata": {},
   "outputs": [
    {
     "name": "stdout",
     "output_type": "stream",
     "text": [
      "-336\n"
     ]
    }
   ],
   "source": [
    "def multiplica_lista(*args):\n",
    "    res = 1\n",
    "    \n",
    "    for n in args:\n",
    "        res *= int(n)\n",
    "    \n",
    "    return res\n",
    "\n",
    "teste = multiplica_lista(8, 2, 3, -1, 7)\n",
    "print(teste)"
   ]
  },
  {
   "cell_type": "raw",
   "metadata": {},
   "source": [
    "4. Escreva uma função em Python que retorna uma string reversa.\n",
    "Exemplo Entrada : \"1234abcd\"\n",
    "Exemplo Saída : \"dcba4321\""
   ]
  },
  {
   "cell_type": "code",
   "execution_count": 11,
   "metadata": {},
   "outputs": [
    {
     "name": "stdout",
     "output_type": "stream",
     "text": [
      "dcba4321\n"
     ]
    }
   ],
   "source": [
    "def inverte_string(texto):\n",
    "    res = texto[::-1]\n",
    "    return res\n",
    "\n",
    "teste = inverte_string(\"1234abcd\")\n",
    "print(teste)"
   ]
  },
  {
   "cell_type": "raw",
   "metadata": {},
   "source": [
    "5. Escreva uma função em Python que calcula o fatorial de um número (deve ser um inteiro não negativo). A função recebe um número como argumento."
   ]
  },
  {
   "cell_type": "code",
   "execution_count": 17,
   "metadata": {},
   "outputs": [
    {
     "name": "stdout",
     "output_type": "stream",
     "text": [
      "digite um numero:5\n",
      "120\n"
     ]
    }
   ],
   "source": [
    "def fatorial(num):\n",
    "    res = num\n",
    "    for i in range(1, num): \n",
    "        res = res * i\n",
    "\n",
    "    return res\n",
    "\n",
    "entrada = input(\"digite um numero:\")\n",
    "teste = fatorial(int(entrada))\n",
    "print(teste)"
   ]
  },
  {
   "cell_type": "raw",
   "metadata": {},
   "source": [
    "6. Escreva uma função em Python que verifica se um número está dentro de um determinado alcance."
   ]
  },
  {
   "cell_type": "raw",
   "metadata": {},
   "source": [
    "7. Escreva uma função em Python que recebe uma string e calcula o número de letras maiúsculas e minúsculas na mesma.\n",
    "String Exemplo: 'Ordem e Progresso'\n",
    "Resultado Esperado : \n",
    "No. de letras maiúsculas : 2\n",
    "No. de letras minúsculas : 13"
   ]
  },
  {
   "cell_type": "code",
   "execution_count": 46,
   "metadata": {},
   "outputs": [
    {
     "name": "stdout",
     "output_type": "stream",
     "text": [
      "No. de letras maiúsculas : 2\n",
      "No. de letras minúsculas : 13\n"
     ]
    }
   ],
   "source": [
    "import string\n",
    "\n",
    "def conta_maiusculas(texto):\n",
    "    res = 0\n",
    "    upper = list(string.ascii_uppercase)\n",
    "    for i in upper: \n",
    "        if i in texto:\n",
    "            res += 1\n",
    "\n",
    "    return res\n",
    "\n",
    "def conta_minusculas(texto):\n",
    "    res = 0\n",
    "    lower = list(string.ascii_lowercase)\n",
    "    \n",
    "    for i in list(texto): \n",
    "        if i in lower:\n",
    "            res += 1\n",
    "\n",
    "    return res\n",
    "\n",
    "def conta_letras(texto):\n",
    "    return conta_maiusculas(texto), conta_minusculas(texto)\n",
    "\n",
    "teste = conta_letras('Ordem e Progresso')\n",
    "print(\"No. de letras maiúsculas : %s\\nNo. de letras minúsculas : %s\" % teste)\n"
   ]
  },
  {
   "cell_type": "raw",
   "metadata": {},
   "source": [
    "8. Escreva uma função em Python que recebe uma lista e retorna uma nova lista com os elementos únicos da lista inicial.\n",
    "Lista Exemplo : [1,2,3,3,3,3,4,5]\n",
    "Saída : [1, 2, 3, 4, 5]"
   ]
  },
  {
   "cell_type": "code",
   "execution_count": 48,
   "metadata": {},
   "outputs": [
    {
     "name": "stdout",
     "output_type": "stream",
     "text": [
      "[1, 2, 3, 4, 5]\n"
     ]
    }
   ],
   "source": [
    "def elementos_unicos(lst):\n",
    "    res = []\n",
    "    for i in lst: \n",
    "        if i not in res:\n",
    "            res.append(i)\n",
    "\n",
    "    return res\n",
    "\n",
    "teste = elementos_unicos([1,2,3,3,3,3,4,5])\n",
    "print(teste)"
   ]
  },
  {
   "cell_type": "raw",
   "metadata": {},
   "source": [
    "9. Escreva uma função em Python que recebe um número inteiro como parâmetro e verifica se aquele número é ou não primo.\n",
    "Dica: Um número primo é um número natural maior que um que não tem nenhum divisor positivo além de 1 e ele mesmo."
   ]
  },
  {
   "cell_type": "code",
   "execution_count": 59,
   "metadata": {},
   "outputs": [
    {
     "name": "stdout",
     "output_type": "stream",
     "text": [
      "digite um numero: 233\n",
      "True\n"
     ]
    }
   ],
   "source": [
    "def verifica_primo(num):\n",
    "    res = []\n",
    "    \n",
    "    for i in range(1, num + 1): # inclui o numero no range\n",
    "        if num % i == 0: # conta divisores positivos\n",
    "            res.append(i) \n",
    "            \n",
    "        if len(res) > 2: # não primo\n",
    "            break\n",
    "\n",
    "    return len(res) == 2 # divididos por 1 e por ele mesmo\n",
    "\n",
    "entrada = input(\"digite um numero: \")\n",
    "teste = verifica_primo(int(entrada))\n",
    "print(teste)"
   ]
  },
  {
   "cell_type": "raw",
   "metadata": {},
   "source": [
    "10. Escreva uma função em Python que retorna os números pares em uma determinada lista.\n",
    "Exemplo Entrada : [1, 2, 3, 4, 5, 6, 7, 8, 9] \n",
    "Saída : [2, 4, 6, 8]"
   ]
  },
  {
   "cell_type": "code",
   "execution_count": 61,
   "metadata": {},
   "outputs": [
    {
     "name": "stdout",
     "output_type": "stream",
     "text": [
      "[2, 4, 6, 8]\n"
     ]
    }
   ],
   "source": [
    "def numeros_pares(lst):\n",
    "    res = []\n",
    "    \n",
    "    for i in lst: \n",
    "        if i % 2 == 0: \n",
    "            res.append(i) \n",
    "\n",
    "    return res\n",
    "\n",
    "teste = numeros_pares([1, 2, 3, 4, 5, 6, 7, 8, 9])\n",
    "print(teste)"
   ]
  },
  {
   "cell_type": "raw",
   "metadata": {},
   "source": [
    "11. Escreva uma função que leia um número e diga se ele é perfeito. Um número perfeito é aquele que é igual à soma dos seus divisores excluindo ele mesmo. Por exemplo, 28 = 14 + 7 + 4 + 2 + 1.\n",
    "* Divisor : Número que divide outro número sem deixar resto."
   ]
  },
  {
   "cell_type": "code",
   "execution_count": 72,
   "metadata": {},
   "outputs": [
    {
     "name": "stdout",
     "output_type": "stream",
     "text": [
      "True\n"
     ]
    }
   ],
   "source": [
    "def numero_perfeito(num):\n",
    "    res = 0\n",
    "    \n",
    "    for i in range(1, num): \n",
    "        if num % i == 0: \n",
    "            res += i\n",
    "\n",
    "    return res == num\n",
    "\n",
    "teste = numero_perfeito(28)\n",
    "print(teste)"
   ]
  },
  {
   "cell_type": "raw",
   "metadata": {},
   "source": [
    "12. Escreva uma função em Python que verifica se uma string é um palíndromo ou não.\n",
    "Dica:  Um palíndromo é uma palavra, frase ou sequência que é lida da mesma maneira da esquerda para direita ou ao contrário.\n",
    "Ex: arara , oco , reler"
   ]
  },
  {
   "cell_type": "code",
   "execution_count": 73,
   "metadata": {},
   "outputs": [
    {
     "name": "stdout",
     "output_type": "stream",
     "text": [
      "True\n"
     ]
    }
   ],
   "source": [
    "def palindromo(palavra): \n",
    "    reversa = palavra[::-1] \n",
    "    return palavra == reversa\n",
    "\n",
    "print(palindromo('arara'))"
   ]
  },
  {
   "cell_type": "raw",
   "metadata": {},
   "source": [
    "13. Escreva uma função em Python que imprime as primeiras n linhas dl Triângulo de Pascal.\n",
    "\n",
    "<img src =\"triangulo-pascal.png\">\n",
    "\n",
    "Cada número na linha é a soma dos dois números acima."
   ]
  },
  {
   "cell_type": "raw",
   "metadata": {},
   "source": [
    "14. Escreva uma função em Python para verificar se uma string é um pantograma ou não.\n",
    "Dica : Pantogramas são palavras ou sentenças contendo todas as letras do alfabeto pelo menos 1 vez.\n",
    "Exemplo : \"Jane quer LP, fax, CD, giz, TV e bom whisky.\" "
   ]
  },
  {
   "cell_type": "code",
   "execution_count": 83,
   "metadata": {},
   "outputs": [
    {
     "name": "stdout",
     "output_type": "stream",
     "text": [
      "True\n"
     ]
    }
   ],
   "source": [
    "import string\n",
    "\n",
    "def pantograma(texto):\n",
    "    res = 0\n",
    "    texto = texto.lower()\n",
    "    letters = list(string.ascii_lowercase)\n",
    "    \n",
    "    for i in letters: \n",
    "        if i in texto:\n",
    "            res += 1\n",
    "            \n",
    "    return len(letters) == res\n",
    "\n",
    "teste = pantograma(\"Jane quer LP, fax, CD, giz, TV e bom whisky.\")\n",
    "print(teste)\n"
   ]
  },
  {
   "cell_type": "raw",
   "metadata": {},
   "source": [
    "15. Escreva um programa que recebe uma sequencia separada por hífens e retorna uma sequência também separada por hífens, porém, ordenada alfabéticamente.\n",
    "Exemplo : verde-vermelho-amarelo-preto-branco\n",
    "Resultado Esperado : amarelo-branco-preto-verde-vermelho"
   ]
  },
  {
   "cell_type": "code",
   "execution_count": 84,
   "metadata": {},
   "outputs": [
    {
     "name": "stdout",
     "output_type": "stream",
     "text": [
      "amarelo-branco-preto-verde-vermelho\n"
     ]
    }
   ],
   "source": [
    "def ordena_lista(texto):\n",
    "    lst = texto.split('-')\n",
    "    lst = sorted(lst, key=str.lower)\n",
    "    sep = '-'\n",
    "    return sep.join(lst)\n",
    "\n",
    "teste = ordena_lista(\"verde-vermelho-amarelo-preto-branco\")\n",
    "print(teste)"
   ]
  },
  {
   "cell_type": "raw",
   "metadata": {},
   "source": [
    "16. Escreva um programa em Python que acessa uma função dentro de outra função."
   ]
  }
 ],
 "metadata": {
  "kernelspec": {
   "display_name": "Python 3",
   "language": "python",
   "name": "python3"
  },
  "language_info": {
   "codemirror_mode": {
    "name": "ipython",
    "version": 3
   },
   "file_extension": ".py",
   "mimetype": "text/x-python",
   "name": "python",
   "nbconvert_exporter": "python",
   "pygments_lexer": "ipython3",
   "version": "3.7.0"
  },
  "varInspector": {
   "cols": {
    "lenName": 16,
    "lenType": 16,
    "lenVar": 40
   },
   "kernels_config": {
    "python": {
     "delete_cmd_postfix": "",
     "delete_cmd_prefix": "del ",
     "library": "var_list.py",
     "varRefreshCmd": "print(var_dic_list())"
    },
    "r": {
     "delete_cmd_postfix": ") ",
     "delete_cmd_prefix": "rm(",
     "library": "var_list.r",
     "varRefreshCmd": "cat(var_dic_list()) "
    }
   },
   "types_to_exclude": [
    "module",
    "function",
    "builtin_function_or_method",
    "instance",
    "_Feature"
   ],
   "window_display": false
  }
 },
 "nbformat": 4,
 "nbformat_minor": 2
}
