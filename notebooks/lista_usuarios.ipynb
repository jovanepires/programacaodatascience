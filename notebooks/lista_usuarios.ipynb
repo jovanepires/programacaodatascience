{
 "cells": [
  {
   "cell_type": "code",
   "execution_count": 1,
   "metadata": {},
   "outputs": [],
   "source": [
    "#Criação\n",
    "# Cadastro de Clientes    \n",
    "#0 - Fim  \n",
    "#1 - Inclui  \n",
    "#2 - Altera  \n",
    "#3 - Exclui  \n",
    "#4 - Consulta    \n",
    "#Opção: _\n",
    "\n",
    "global lista_usuarios\n",
    "lista_usuarios = []"
   ]
  },
  {
   "cell_type": "code",
   "execution_count": 2,
   "metadata": {},
   "outputs": [],
   "source": [
    "def print_menu():\n",
    "    print(\"Cadastro de Clientes\")    \n",
    "    print(\"0 - Fim  \") \n",
    "    print(\"1 - Inclui\")   \n",
    "    print(\"2 - Altera \")  \n",
    "    print(\"3 - Exclui  \") \n",
    "    print(\"4 - Consulta\") "
   ]
  },
  {
   "cell_type": "code",
   "execution_count": 3,
   "metadata": {},
   "outputs": [
    {
     "name": "stdout",
     "output_type": "stream",
     "text": [
      "Cadastro de Clientes\n",
      "0 - Fim  \n",
      "1 - Inclui\n",
      "2 - Altera \n",
      "3 - Exclui  \n",
      "4 - Consulta\n"
     ]
    }
   ],
   "source": [
    "print_menu()"
   ]
  },
  {
   "cell_type": "code",
   "execution_count": 4,
   "metadata": {},
   "outputs": [],
   "source": [
    "def inclui_usuario():\n",
    "    print(\"Digite o nome\\n\")\n",
    "    nome = input()\n",
    "    lista_usuarios.append(nome)"
   ]
  },
  {
   "cell_type": "code",
   "execution_count": 9,
   "metadata": {},
   "outputs": [],
   "source": [
    "def imprimir_lista():\n",
    "    global lista_usuarios\n",
    "    print(\"Lista de usuários: \")\n",
    "    cont =0\n",
    "    for nome in lista_usuarios:\n",
    "        print(cont,nome)\n",
    "        cont+=1"
   ]
  },
  {
   "cell_type": "code",
   "execution_count": 11,
   "metadata": {},
   "outputs": [],
   "source": [
    "def alterar_lista():\n",
    "    imprimir_lista()\n",
    "    print(\"Escolha o numero a ser alterado\")\n",
    "    num = input()\n",
    "    print(\"Digite o novo nome\")\n",
    "    nome = input()\n",
    "    lista_usuarios[int(num)]=nome\n",
    "    imprimir_lista()"
   ]
  },
  {
   "cell_type": "code",
   "execution_count": 16,
   "metadata": {},
   "outputs": [],
   "source": [
    "def excluir_lista():\n",
    "    imprimir_lista()\n",
    "    print(\"Escolha o numero a ser excluido\")\n",
    "    num = input()\n",
    "    lista_usuarios.remove(lista_usuarios[int(num)])\n",
    "    imprimir_lista()"
   ]
  },
  {
   "cell_type": "code",
   "execution_count": 19,
   "metadata": {},
   "outputs": [
    {
     "name": "stdout",
     "output_type": "stream",
     "text": [
      "4\n",
      "Lista de usuários: \n",
      "0 Ceara\n"
     ]
    }
   ],
   "source": [
    "opcao = input()\n",
    "\n",
    "if(opcao == '1'):\n",
    "    inclui_usuario()\n",
    "    imprimir_lista()\n",
    "elif(opcao == '2'):\n",
    "    alterar_lista()\n",
    "elif(opcao == '3'):\n",
    "    excluir_lista()\n",
    "elif(opcao == '4'):\n",
    "    imprimir_lista()\n"
   ]
  },
  {
   "cell_type": "code",
   "execution_count": null,
   "metadata": {},
   "outputs": [],
   "source": []
  }
 ],
 "metadata": {
  "kernelspec": {
   "display_name": "Python 3",
   "language": "python",
   "name": "python3"
  },
  "language_info": {
   "codemirror_mode": {
    "name": "ipython",
    "version": 3
   },
   "file_extension": ".py",
   "mimetype": "text/x-python",
   "name": "python",
   "nbconvert_exporter": "python",
   "pygments_lexer": "ipython3",
   "version": "3.7.0"
  }
 },
 "nbformat": 4,
 "nbformat_minor": 2
}
